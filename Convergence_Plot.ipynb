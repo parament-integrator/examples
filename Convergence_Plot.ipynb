{
  "nbformat": 4,
  "nbformat_minor": 0,
  "metadata": {
    "kernelspec": {
      "display_name": "Python 3",
      "language": "python",
      "name": "python3"
    },
    "language_info": {
      "codemirror_mode": {
        "name": "ipython",
        "version": 3
      },
      "file_extension": ".py",
      "mimetype": "text/x-python",
      "name": "python",
      "nbconvert_exporter": "python",
      "pygments_lexer": "ipython3",
      "version": "3.7.7"
    },
    "colab": {
      "name": "Convergence_Plot_Paper_Version - Kopie.ipynb",
      "provenance": [],
      "include_colab_link": true
    },
    "accelerator": "GPU"
  },
  "cells": [
    {
      "cell_type": "markdown",
      "metadata": {
        "id": "view-in-github",
        "colab_type": "text"
      },
      "source": [
        "<a href=\"https://colab.research.google.com/github/parament-integrator/examples/blob/master/Convergence_Plot_Paper_Version%20-%20Kopie.ipynb\" target=\"_parent\"><img src=\"https://colab.research.google.com/assets/colab-badge.svg\" alt=\"Open In Colab\"/></a>"
      ]
    },
    {
      "cell_type": "markdown",
      "metadata": {
        "id": "Vb_U7PPUxQAG"
      },
      "source": [
        "# Convergence plot\n",
        "\n",
        "In this example we will recreate the convergence plot from our paper.\n",
        "\n",
        "A convergence plot shows the residual error of the numeric integration vs the number of time steps.\n",
        "\n",
        "The problem we are integrating is one where an analytical solution is know, namely a spin singlet that is driven by a cicularly polarized field. It's Hamiltonian is given by:\n",
        "\n",
        "$$ \\mathcal{H}/h = \\frac{\\omega_0}{2} \\sigma_z + \\cos(\\omega_\\mathrm{rf} t) \\frac{\\omega_1}{2}\\sigma_x  + \\sin(\\omega_\\mathrm{rf} t) \\frac{\\omega_1}{2}\\sigma_y  = H_0 + u_1(t)\\cdot H_1 + u_2(t)\\cdot  H_2$$\n",
        "\n",
        "where $\\sigma_x$, $\\sigma_y$, $\\sigma_z$ are the Pauli matrices. $u_1$ and $u_2$ are the control amplitudes, and represent the applied magnetic fields. For convenience, we set the Planck constant $h=1$. \n",
        "\n",
        "---\n",
        "\n",
        "\n",
        "## Install dependencies\n",
        "\n",
        "\n",
        "As a first step, we must prepare the environment. We install some dependencies via `pip`. We install [`qutip`](https://qutip.org/), and `parament` itself.\n",
        "\n",
        "The `NVCC_ARGS=\"-arch=compute_37\"` part instructs the compiler to target older GPUs as well, to maximize compatibility. This is necessary on Google Colab, as sometimes you will be assigned a fairly old Tesla K80 GPU that is not targeted by the default."
      ]
    },
    {
      "cell_type": "code",
      "metadata": {
        "colab": {
          "base_uri": "https://localhost:8080/"
        },
        "id": "uIlLzv7mUgzr",
        "outputId": "48ce5771-efc8-492f-8380-2b1f1fb2d669"
      },
      "source": [
        "!NVCC_ARGS=\"-arch=compute_37\" pip install qutip git+https://github.com/parament-integrator/parament#subdirectory=src"
      ],
      "execution_count": 1,
      "outputs": [
        {
          "output_type": "stream",
          "text": [
            "Collecting git+https://github.com/parament-integrator/parament#subdirectory=src\n",
            "  Cloning https://github.com/parament-integrator/parament to /tmp/pip-req-build-8eohqk3_\n",
            "  Running command git clone -q https://github.com/parament-integrator/parament /tmp/pip-req-build-8eohqk3_\n",
            "Collecting qutip\n",
            "\u001b[?25l  Downloading https://files.pythonhosted.org/packages/81/26/24777cd6a939239c57467f59cacdd21a929eaf828da5c467a2a513cf4024/qutip-4.6.2-cp37-cp37m-manylinux2010_x86_64.whl (14.6MB)\n",
            "\u001b[K     |████████████████████████████████| 14.6MB 201kB/s \n",
            "\u001b[?25hRequirement already satisfied: numpy in /usr/local/lib/python3.7/dist-packages (from parament==0.1) (1.19.5)\n",
            "Requirement already satisfied: scipy>=1.0 in /usr/local/lib/python3.7/dist-packages (from qutip) (1.4.1)\n",
            "Requirement already satisfied: packaging in /usr/local/lib/python3.7/dist-packages (from qutip) (20.9)\n",
            "Requirement already satisfied: pyparsing>=2.0.2 in /usr/local/lib/python3.7/dist-packages (from packaging->qutip) (2.4.7)\n",
            "Building wheels for collected packages: parament\n",
            "  Building wheel for parament (setup.py) ... \u001b[?25l\u001b[?25hdone\n",
            "  Created wheel for parament: filename=parament-0.1-py3-none-linux_x86_64.whl size=784110 sha256=3a88baf4e0c8132d53efa2916cdc47804cf4f21380adad87df298bc08511e5e1\n",
            "  Stored in directory: /tmp/pip-ephem-wheel-cache-ilxca377/wheels/30/d6/35/c1497ea3f67415126ff9dcde263bc6c57e63b2e80d38e99fc5\n",
            "Successfully built parament\n",
            "Installing collected packages: qutip, parament\n",
            "Successfully installed parament-0.1 qutip-4.6.2\n"
          ],
          "name": "stdout"
        }
      ]
    },
    {
      "cell_type": "markdown",
      "metadata": {
        "id": "RH8S80CTzb7t"
      },
      "source": [
        "We can now import the packages we need."
      ]
    },
    {
      "cell_type": "code",
      "metadata": {
        "id": "vjsaIbxcUf_j"
      },
      "source": [
        "import parament\n",
        "import numpy as np\n",
        "import scipy.linalg\n",
        "import qutip as qu\n",
        "import matplotlib.pyplot as plt"
      ],
      "execution_count": 2,
      "outputs": []
    },
    {
      "cell_type": "markdown",
      "metadata": {
        "id": "cuLVCzO_zl9P"
      },
      "source": [
        "Next, we define the Hamiltonian, according to the equation above."
      ]
    },
    {
      "cell_type": "code",
      "metadata": {
        "id": "6aWmwNsvUf_o"
      },
      "source": [
        "dtype_base = np.complex128\n",
        "\n",
        "ox = np.array([[0, 1], [1, 0]], dtype=dtype_base)\n",
        "oy = np.array([[0, -1j], [1j, 0]], dtype=dtype_base)\n",
        "oz = np.array([[1, 0], [0, -1]], dtype=dtype_base)\n",
        "oe = np.array([[1, 0], [0, 1]], dtype=dtype_base)\n",
        "\n",
        "w0 = 1.0\n",
        "w1 = 0.1\n",
        "wrf = 1.0\n",
        "TSTOP = 6\n",
        "\n",
        "H0 = w0/2 * oz\n",
        "H1 = w1/2 * ox\n",
        "H2 = w1/2 * oy"
      ],
      "execution_count": 3,
      "outputs": []
    },
    {
      "cell_type": "markdown",
      "metadata": {
        "id": "kF3IQl7928dd"
      },
      "source": [
        "As mentioned, for this particular problem, the exact solution is known:"
      ]
    },
    {
      "cell_type": "code",
      "metadata": {
        "id": "aF22RL5QUf_s"
      },
      "source": [
        "def Uexact(t):\n",
        "    dw = w0 - wrf\n",
        "    gen = np.sqrt(w1**2+dw**2)\n",
        "    explabM = np.exp(-0.5j*t*wrf)\n",
        "    explabP = np.exp(0.5j*t*wrf)\n",
        "    x = 0.5*gen*t\n",
        "    fact1 = dw/gen\n",
        "    fact2 = w1/gen\n",
        "    M1 = explabM*(np.cos(x) + 1j*fact1 * np.sin(x))\n",
        "    M2 = explabM*(-1j*fact2*np.sin(x))\n",
        "    M3 = explabP*(-1j*fact2*np.sin(x))\n",
        "    M4 = explabP*(np.cos(x) - 1j*fact1 * np.sin(x))  \n",
        "    return np.array([[M1, M2],[M3, M4]])\n",
        "    "
      ],
      "execution_count": 4,
      "outputs": []
    },
    {
      "cell_type": "markdown",
      "metadata": {
        "id": "fyhOzDL65xu3"
      },
      "source": [
        "We can now run parament on the same hamiltonian, and compare the output."
      ]
    },
    {
      "cell_type": "code",
      "metadata": {
        "id": "YaZaxb2pUf_t"
      },
      "source": [
        "def compare(GPURunner, pts, magnus, quad):\n",
        "    GPURunner.set_hamiltonian(H0, H1, H2, use_magnus=magnus, quadrature_mode=quad)\n",
        "    t = np.linspace(0, TSTOP, pts)\n",
        "    dt = t[1] - t[0]\n",
        "    carr1 = np.cos(wrf*t)\n",
        "    carr2 = np.sin(wrf*t)\n",
        "    outGPU = GPURunner.equiprop(dt, carr1, carr2)\n",
        "    Qout = qu.Qobj(outGPU).tidyup()\n",
        "    propagator_exact = Uexact(TSTOP)\n",
        "    Ndiff = outGPU - propagator_exact\n",
        "    Qexact = qu.Qobj(propagator_exact).tidyup()\n",
        "    Qdiff = Qout - Qexact\n",
        "    norm_diff = np.linalg.norm(Qdiff.data.todense())\n",
        "    return norm_diff"
      ],
      "execution_count": 5,
      "outputs": []
    },
    {
      "cell_type": "markdown",
      "metadata": {
        "id": "lm90JktVUf_u"
      },
      "source": [
        "First we'll try single precision..."
      ]
    },
    {
      "cell_type": "code",
      "metadata": {
        "scrolled": true,
        "id": "dmcvX424Uf_v"
      },
      "source": [
        "steps = np.logspace(1, 4.5, dtype=int)\n",
        "steps = np.array([s+1 if s%2 == 0 else s for s in steps])\n",
        "\n",
        "with parament.Parament(precision='fp32') as GPURunner:\n",
        "  y1 = np.array([compare(GPURunner, step, True, 'simpson') for step in steps])\n",
        "  y2 = np.array([compare(GPURunner, step, False, 'midpoint') for step in steps])\n",
        "  y3 = np.array([compare(GPURunner, step, False, 'simpson') for step in steps])"
      ],
      "execution_count": 6,
      "outputs": []
    },
    {
      "cell_type": "code",
      "metadata": {
        "colab": {
          "base_uri": "https://localhost:8080/",
          "height": 312
        },
        "id": "CdNQno58Uf_w",
        "outputId": "05f4f007-6271-4e39-df34-963ceede860b"
      },
      "source": [
        "plt.figure()\n",
        "plt.loglog(steps, np.array(y2)/4, label='Midpoint')\n",
        "plt.loglog(steps, np.array(y3)/4, label='Simpson')\n",
        "plt.loglog(steps, np.array(y1)/4, label='Magnus')\n",
        "plt.ylabel('$||U-U_\\mathrm{exact}||/4$')\n",
        "plt.xlabel('time steps')\n",
        "plt.axhline(2**-23, c='k')\n",
        "plt.text(5e4, 1.5*2**-23, 'machine prec.', ha='right')\n",
        "plt.legend(loc='lower center', bbox_to_anchor=(0.5, 1.025),\n",
        "           ncol=3, fancybox=False, shadow=False)\n",
        "plt.plot()\n",
        "plt.show()"
      ],
      "execution_count": 7,
      "outputs": [
        {
          "output_type": "display_data",
          "data": {
            "image/png": "[encoded data removed]",
            "text/plain": [
              "<Figure size 432x288 with 1 Axes>"
            ]
          },
          "metadata": {
            "tags": [],
            "needs_background": "light"
          }
        }
      ]
    },
    {
      "cell_type": "code",
      "metadata": {
        "id": "vhqZQ7gHUf_x"
      },
      "source": [
        "steps = np.array([\n",
        "            13,      15,      21,      25,      33,      41,      51,\n",
        "            65,      83,     105,     131,     167,     211,     267,\n",
        "           337,     427,     541,     683,     865,    1093,    1383,\n",
        "          1749,    2217,    2799,    3539,    4477,    5663,    7163,\n",
        "          9061,   11459,   14495,   18335,   23191,   29333,   37101,\n",
        "         46927,   59357,   75077,   94963,  120113,  151927,  192165,\n",
        "        243061,  307437,  388863,  491855,  622125,  786897,  995311,\n",
        "       1258925\n",
        "])"
      ],
      "execution_count": 8,
      "outputs": []
    },
    {
      "cell_type": "markdown",
      "metadata": {
        "id": "Hz5VDvBZ8NOg"
      },
      "source": [
        "And double precision next..."
      ]
    },
    {
      "cell_type": "code",
      "metadata": {
        "scrolled": true,
        "id": "t4dTgNJ8Uf_y"
      },
      "source": [
        "with parament.Parament(precision='fp64') as GPURunner:\n",
        "  z1 = np.array([compare(GPURunner, step, True, 'simpson') for step in steps])\n",
        "  z2 = np.array([compare(GPURunner, step, False, 'midpoint') for step in steps])\n",
        "  z3 = np.array([compare(GPURunner, step, False, 'simpson') for step in steps])"
      ],
      "execution_count": 9,
      "outputs": []
    },
    {
      "cell_type": "code",
      "metadata": {
        "colab": {
          "base_uri": "https://localhost:8080/",
          "height": 312
        },
        "id": "8Mujea6NUf_z",
        "outputId": "88f3d0d1-6351-4dc9-cfa5-a5774109752e"
      },
      "source": [
        "plt.figure()\n",
        "plt.loglog(steps, np.clip(np.array(z2)/4, 2**-53,100), label='Midpoint')\n",
        "plt.loglog(steps, np.clip(np.array(z3)/4, 2**-53,100), label='Simpson')\n",
        "plt.loglog(steps, np.clip(np.array(z1)/4, 2**-53,100), label='Magnus')\n",
        "plt.ylabel('$||U-U_\\mathrm{exact}||/4$')\n",
        "plt.xlabel('time steps')\n",
        "plt.axhline(2**-53, c='k')\n",
        "plt.text(6.5e4, 1.5*2**-53, 'machine prec.')\n",
        "plt.legend(loc='lower center', bbox_to_anchor=(0.5, 1.025),\n",
        "           ncol=3, fancybox=False, shadow=False)\n",
        "plt.plot()\n",
        "plt.show()"
      ],
      "execution_count": 10,
      "outputs": [
        {
          "output_type": "display_data",
          "data": {
            "image/png": "[encoded data removed]",
            "text/plain": [
              "<Figure size 432x288 with 1 Axes>"
            ]
          },
          "metadata": {
            "tags": [],
            "needs_background": "light"
          }
        }
      ]
    }
  ]
}
