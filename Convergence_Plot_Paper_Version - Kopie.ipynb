{
  "nbformat": 4,
  "nbformat_minor": 0,
  "metadata": {
    "kernelspec": {
      "display_name": "Python 3",
      "language": "python",
      "name": "python3"
    },
    "language_info": {
      "codemirror_mode": {
        "name": "ipython",
        "version": 3
      },
      "file_extension": ".py",
      "mimetype": "text/x-python",
      "name": "python",
      "nbconvert_exporter": "python",
      "pygments_lexer": "ipython3",
      "version": "3.7.7"
    },
    "colab": {
      "name": "Convergence_Plot_Paper_Version - Kopie.ipynb",
      "provenance": [],
      "include_colab_link": true
    },
    "accelerator": "GPU"
  },
  "cells": [
    {
      "cell_type": "markdown",
      "metadata": {
        "id": "view-in-github",
        "colab_type": "text"
      },
      "source": [
        "<a href=\"https://colab.research.google.com/github/parament-integrator/examples/blob/master/Convergence_Plot_Paper_Version%20-%20Kopie.ipynb\" target=\"_parent\"><img src=\"https://colab.research.google.com/assets/colab-badge.svg\" alt=\"Open In Colab\"/></a>"
      ]
    },
    {
      "cell_type": "code",
      "metadata": {
        "colab": {
          "base_uri": "https://localhost:8080/"
        },
        "id": "uIlLzv7mUgzr",
        "outputId": "fa447126-b78e-4eea-95fc-a15f3ff149ae"
      },
      "source": [
        "!NVCC_ARGS=\"-arch=compute_37\" pip install qutip git+https://github.com/parament-integrator/parament#subdirectory=src"
      ],
      "execution_count": 1,
      "outputs": [
        {
          "output_type": "stream",
          "text": [
            "Collecting git+https://github.com/parament-integrator/parament#subdirectory=src\n",
            "  Cloning https://github.com/parament-integrator/parament to /tmp/pip-req-build-hxdnx_d3\n",
            "  Running command git clone -q https://github.com/parament-integrator/parament /tmp/pip-req-build-hxdnx_d3\n",
            "Requirement already satisfied (use --upgrade to upgrade): parament==0.1 from git+https://github.com/parament-integrator/parament#subdirectory=src in /usr/local/lib/python3.7/dist-packages\n",
            "Requirement already satisfied: qutip in /usr/local/lib/python3.7/dist-packages (4.6.1)\n",
            "Requirement already satisfied: numpy in /usr/local/lib/python3.7/dist-packages (from parament==0.1) (1.19.5)\n",
            "Requirement already satisfied: packaging in /usr/local/lib/python3.7/dist-packages (from qutip) (20.9)\n",
            "Requirement already satisfied: scipy>=1.0 in /usr/local/lib/python3.7/dist-packages (from qutip) (1.4.1)\n",
            "Requirement already satisfied: pyparsing>=2.0.2 in /usr/local/lib/python3.7/dist-packages (from packaging->qutip) (2.4.7)\n",
            "Building wheels for collected packages: parament\n",
            "  Building wheel for parament (setup.py) ... \u001b[?25l\u001b[?25hdone\n",
            "  Created wheel for parament: filename=parament-0.1-py3-none-linux_x86_64.whl size=781723 sha256=a075ca05d594b398320e77140c3141b874e24f53f11e7445097f15a82c9ee097\n",
            "  Stored in directory: /tmp/pip-ephem-wheel-cache-p4lhe0ni/wheels/30/d6/35/c1497ea3f67415126ff9dcde263bc6c57e63b2e80d38e99fc5\n",
            "Successfully built parament\n"
          ],
          "name": "stdout"
        }
      ]
    },
    {
      "cell_type": "code",
      "metadata": {
        "id": "vjsaIbxcUf_j"
      },
      "source": [
        "import sys\n",
        "import os\n",
        "import parament\n",
        "import numpy as np\n",
        "import scipy.linalg\n",
        "from numba import njit, prange\n",
        "import qutip as qu\n",
        "import matplotlib.pyplot as plt"
      ],
      "execution_count": 2,
      "outputs": []
    },
    {
      "cell_type": "code",
      "metadata": {
        "id": "6aWmwNsvUf_o"
      },
      "source": [
        "dtype_base = np.complex128\n",
        "\n",
        "ox = np.array([[0, 1], [1, 0]], dtype=dtype_base)\n",
        "oy = np.array([[0, -1j], [1j, 0]], dtype=dtype_base)\n",
        "oz = np.array([[1, 0], [0, -1]], dtype=dtype_base)\n",
        "oe = np.array([[1, 0], [0, 1]], dtype=dtype_base)\n",
        "\n",
        "w0 = 1.0\n",
        "w1 = 0.1\n",
        "wrf = 1.0\n",
        "TSTOP = 6\n",
        "\n",
        "H0 = w0/2 * oz\n",
        "H1 = w1/2 * ox\n",
        "H2 = w1/2 * oy"
      ],
      "execution_count": 3,
      "outputs": []
    },
    {
      "cell_type": "code",
      "metadata": {
        "id": "aF22RL5QUf_s"
      },
      "source": [
        "def Uexact(t):\n",
        "    dw = w0 - wrf\n",
        "    gen = np.sqrt(w1**2+dw**2)\n",
        "    explabM = np.exp(-0.5j*t*wrf)\n",
        "    explabP = np.exp(0.5j*t*wrf)\n",
        "    x = 0.5*gen*t\n",
        "    fact1 = dw/gen\n",
        "    fact2 = w1/gen\n",
        "    M1 = explabM*(np.cos(x) + 1j*fact1 * np.sin(x))\n",
        "    M2 = explabM*(-1j*fact2*np.sin(x))\n",
        "    M3 = explabP*(-1j*fact2*np.sin(x))\n",
        "    M4 = explabP*(np.cos(x) - 1j*fact1 * np.sin(x))  \n",
        "    return np.array([[M1, M2],[M3, M4]])\n",
        "    "
      ],
      "execution_count": 4,
      "outputs": []
    },
    {
      "cell_type": "code",
      "metadata": {
        "id": "YaZaxb2pUf_t"
      },
      "source": [
        "def compare(pts, magnus, quad):\n",
        "    GPURunner.set_hamiltonian(H0, H1, H2, use_magnus=magnus, quadrature_mode=quad)\n",
        "    t = np.linspace(0, TSTOP, pts)\n",
        "    dt = t[1]-t[0]\n",
        "    carr1 = np.cos(wrf*t)\n",
        "    carr2 = np.sin(wrf*t)\n",
        "\n",
        "    outGPU = GPURunner.equiprop(dt, carr1, carr2)\n",
        "    #u,s,v = np.linalg.svd(outGPU)\n",
        "    #outGPU = u @ v\n",
        "    Qout = qu.Qobj(outGPU).tidyup()\n",
        "    propagator_exact = Uexact(TSTOP)\n",
        "    Ndiff = outGPU - propagator_exact\n",
        "    Qexact = qu.Qobj(propagator_exact).tidyup()\n",
        "    Qdiff = Qout - Qexact\n",
        "    norm_diff = np.linalg.norm(Qdiff.data.todense())\n",
        "    return norm_diff"
      ],
      "execution_count": 5,
      "outputs": []
    },
    {
      "cell_type": "code",
      "metadata": {
        "id": "lm90JktVUf_u"
      },
      "source": [
        "steps = np.logspace(1, 4.5, dtype=int)\n",
        "steps = np.array([s+1 if s%2 == 0 else s for s in steps])"
      ],
      "execution_count": 6,
      "outputs": []
    },
    {
      "cell_type": "code",
      "metadata": {
        "scrolled": true,
        "id": "dmcvX424Uf_v"
      },
      "source": [
        "GPURunner = parament.Parament(precision='fp32')\n",
        "y1 = np.array([compare(step, True, 'simpson') for step in steps])\n",
        "y2 = np.array([compare(step, False, 'midpoint') for step in steps])\n",
        "y3 = np.array([compare(step, False, 'simpson') for step in steps])\n",
        "GPURunner.destroy()"
      ],
      "execution_count": 7,
      "outputs": []
    },
    {
      "cell_type": "code",
      "metadata": {
        "colab": {
          "base_uri": "https://localhost:8080/",
          "height": 330
        },
        "id": "CdNQno58Uf_w",
        "outputId": "0d9c7bc2-e989-43a2-db34-f232fcce55d4"
      },
      "source": [
        "plt.figure()\n",
        "plt.loglog(steps, np.array(y2)/4, label='Midpoint')\n",
        "plt.loglog(steps, np.array(y3)/4, label='Simpson')\n",
        "plt.ylabel('$||U-U_\\mathrm{exact}||/4$')\n",
        "plt.xlabel('time steps')\n",
        "plt.axhline(2**-23, c='k')\n",
        "plt.text(5e4, 1.5*2**-23, 'machine prec.')\n",
        "plt.legend(loc='lower center', bbox_to_anchor=(0.5, 1.025),\n",
        "           ncol=3, fancybox=False, shadow=False)\n",
        "plt.plot()"
      ],
      "execution_count": 8,
      "outputs": [
        {
          "output_type": "execute_result",
          "data": {
            "text/plain": [
              "[]"
            ]
          },
          "metadata": {
            "tags": []
          },
          "execution_count": 8
        },
        {
          "output_type": "display_data",
          "data": {
            "image/png": "[encoded data removed]",
            "text/plain": [
              "<Figure size 432x288 with 1 Axes>"
            ]
          },
          "metadata": {
            "tags": [],
            "needs_background": "light"
          }
        }
      ]
    },
    {
      "cell_type": "code",
      "metadata": {
        "id": "vhqZQ7gHUf_x"
      },
      "source": [
        "steps = np.array([\n",
        "            13,      15,      21,      25,      33,      41,      51,\n",
        "            65,      83,     105,     131,     167,     211,     267,\n",
        "           337,     427,     541,     683,     865,    1093,    1383,\n",
        "          1749,    2217,    2799,    3539,    4477,    5663,    7163,\n",
        "          9061,   11459,   14495,   18335,   23191,   29333,   37101,\n",
        "         46927,   59357,   75077,   94963,  120113,  151927,  192165,\n",
        "        243061,  307437,  388863,  491855,  622125,  786897,  995311,\n",
        "       1258925\n",
        "])"
      ],
      "execution_count": 9,
      "outputs": []
    },
    {
      "cell_type": "code",
      "metadata": {
        "scrolled": true,
        "id": "t4dTgNJ8Uf_y"
      },
      "source": [
        "GPURunner = parament.Parament(precision='fp64')\n",
        "z1 = np.array([compare(step, True, 'simpson') for step in steps])\n",
        "z2 = np.array([compare(step, False, 'midpoint') for step in steps])\n",
        "z3 = np.array([compare(step, False, 'simpson') for step in steps])\n",
        "GPURunner.destroy()"
      ],
      "execution_count": 11,
      "outputs": []
    },
    {
      "cell_type": "code",
      "metadata": {
        "colab": {
          "base_uri": "https://localhost:8080/",
          "height": 330
        },
        "id": "8Mujea6NUf_z",
        "outputId": "5d19fec1-a653-4877-fe53-389096f74f48"
      },
      "source": [
        "plt.figure()\n",
        "plt.loglog(steps, np.clip(np.array(z2)/4, 2**-53,100), label='Midpoint')\n",
        "plt.loglog(steps, np.clip(np.array(z3)/4, 2**-53,100), label='Simpson')\n",
        "plt.loglog(steps, np.clip(np.array(z1)/4, 2**-53,100), label='Magnus')\n",
        "plt.ylabel('$||U-U_\\mathrm{exact}||/4$')\n",
        "plt.xlabel('time steps')\n",
        "plt.axhline(2**-53, c='k')\n",
        "plt.text(6.5e4, 1.5*2**-53, 'machine prec.')\n",
        "plt.legend(loc='lower center', bbox_to_anchor=(0.5, 1.025),\n",
        "           ncol=3, fancybox=False, shadow=False)\n",
        "plt.plot()"
      ],
      "execution_count": 12,
      "outputs": [
        {
          "output_type": "execute_result",
          "data": {
            "text/plain": [
              "[]"
            ]
          },
          "metadata": {
            "tags": []
          },
          "execution_count": 12
        },
        {
          "output_type": "display_data",
          "data": {
            "image/png": "[encoded data removed]",
            "text/plain": [
              "<Figure size 432x288 with 1 Axes>"
            ]
          },
          "metadata": {
            "tags": [],
            "needs_background": "light"
          }
        }
      ]
    },
    {
      "cell_type": "code",
      "metadata": {
        "id": "_7ekvE7UdxyV"
      },
      "source": [
        ""
      ],
      "execution_count": null,
      "outputs": []
    }
  ]
}